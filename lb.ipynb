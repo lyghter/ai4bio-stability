{
 "cells": [
  {
   "cell_type": "code",
   "execution_count": 1,
   "id": "c4b9e5e5",
   "metadata": {},
   "outputs": [],
   "source": [
    "import pandas as pd"
   ]
  },
  {
   "cell_type": "code",
   "execution_count": 2,
   "id": "f7908aec",
   "metadata": {},
   "outputs": [],
   "source": [
    "def load_lb(path):\n",
    "    df = pd.read_csv(path)\n",
    "    df = df.set_index('Team name')\n",
    "    return df"
   ]
  },
  {
   "cell_type": "code",
   "execution_count": 3,
   "id": "71d93293",
   "metadata": {},
   "outputs": [],
   "source": [
    "public = load_lb('public.csv')\n",
    "# print(public)"
   ]
  },
  {
   "cell_type": "code",
   "execution_count": 4,
   "id": "826a7676",
   "metadata": {},
   "outputs": [],
   "source": [
    "private = load_lb('private.csv')\n",
    "# print(private)"
   ]
  },
  {
   "cell_type": "code",
   "execution_count": 5,
   "id": "e45babbf",
   "metadata": {},
   "outputs": [],
   "source": [
    "delta = private-public\n",
    "delta = delta.sort_values(by='F1ScoreMacro')\n",
    "delta.columns = ['delta_'+c for c in delta]\n",
    "x = pd.DataFrame(index=delta.index)\n",
    "x['public_f1'] = public['F1ScoreMacro']\n",
    "x['private_f1'] = private['F1ScoreMacro']"
   ]
  },
  {
   "cell_type": "code",
   "execution_count": 6,
   "id": "ceb91c33",
   "metadata": {},
   "outputs": [
    {
     "name": "stdout",
     "output_type": "stream",
     "text": [
      "                   public_f1  private_f1\n",
      "Team name                               \n",
      "AI4BiologyAuthors    0.83797     0.82205\n"
     ]
    }
   ],
   "source": [
    "print(x[x.index=='AI4BiologyAuthors'])"
   ]
  },
  {
   "cell_type": "code",
   "execution_count": 7,
   "id": "359e168c",
   "metadata": {},
   "outputs": [
    {
     "name": "stdout",
     "output_type": "stream",
     "text": [
      "                   public_f1  private_f1    delta\n",
      "Team name                                        \n",
      "Roman Polomoshnov    0.00791     0.00748  0.00043\n",
      "lyghter              0.95003     0.94944  0.00059\n",
      "0xFEE1DEAD           0.86884     0.86771  0.00113\n",
      "Моцарт               0.85414     0.85538  0.00124\n",
      "Data Satanist        0.95300     0.95426  0.00126\n",
      "...                      ...         ...      ...\n",
      "cyberteria           0.92670     0.82205  0.10465\n",
      "Malekula             0.91112     0.80013  0.11099\n",
      "kamikadze            0.84365     0.72971  0.11394\n",
      "Кайфарики            0.86170     0.69706  0.16464\n",
      "tetelias             0.49083     0.00748  0.48335\n",
      "\n",
      "[90 rows x 3 columns]\n"
     ]
    }
   ],
   "source": [
    "x['delta'] = (x.private_f1-x.public_f1).abs()\n",
    "print(x.sort_values(by='delta'))"
   ]
  },
  {
   "cell_type": "code",
   "execution_count": null,
   "id": "5e6caf9e",
   "metadata": {},
   "outputs": [],
   "source": []
  }
 ],
 "metadata": {
  "kernelspec": {
   "display_name": "Python 3 (ipykernel)",
   "language": "python",
   "name": "python3"
  },
  "language_info": {
   "codemirror_mode": {
    "name": "ipython",
    "version": 3
   },
   "file_extension": ".py",
   "mimetype": "text/x-python",
   "name": "python",
   "nbconvert_exporter": "python",
   "pygments_lexer": "ipython3",
   "version": "3.9.12"
  }
 },
 "nbformat": 4,
 "nbformat_minor": 5
}
